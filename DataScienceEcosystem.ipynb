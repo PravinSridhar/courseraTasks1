{
 "cells": [
  {
   "cell_type": "markdown",
   "id": "5e56a292",
   "metadata": {},
   "source": [
    "<h1>Data Science Tools and Ecosystem </h1>"
   ]
  },
  {
   "cell_type": "markdown",
   "id": "05b9c707",
   "metadata": {},
   "source": [
    "In this notebook, Data Science Tools and Ecosystem are summarized."
   ]
  },
  {
   "cell_type": "markdown",
   "id": "cccaa21f",
   "metadata": {},
   "source": [
    "<strong>Objectives:\n",
    "- Different tools for data science\n",
    "- what is data science\n",
    "- importance of data science\n",
    "- Popular languages for data science\n",
    "- introduction to python and jupyter notebook\n",
    "- introduction to R and github"
   ]
  },
  {
   "cell_type": "markdown",
   "id": "c463bc98",
   "metadata": {},
   "source": [
    "Some of the popular languages that Data Scientists use are:\n",
    "<ol>\n",
    "  <li>Python</li>  \n",
    "  <li>R</li>\n",
    "  <li>Julia</li>\n",
    "  <li>SQL</li> \n",
    "  <li>Java</li> \n",
    "  <li>Scala</li> \n",
    "</ol>"
   ]
  },
  {
   "cell_type": "markdown",
   "id": "f050d279",
   "metadata": {},
   "source": [
    "Some of the commonly used libraries used by Data Scientists include:\n",
    "<ol>\n",
    "  <li>Numpy</li>  \n",
    "  <li>Pandas</li>\n",
    "  <li>Matplotlib</li>\n",
    "  <li>Seaborn</li> \n",
    "  <li>Keras</li> \n",
    "  <li>sklearn</li> \n",
    "</ol>"
   ]
  },
  {
   "cell_type": "markdown",
   "id": "912071e3",
   "metadata": {},
   "source": [
    "<table >\n",
    "  <tr>\n",
    "    <th>Data Science Tools</th>\n",
    "  </tr>\n",
    "  <tr>\n",
    "    <td>Jupyter Notebook/ Jupyter Lab</td>\n",
    "  </tr>\n",
    "  <tr>\n",
    "    <td>RStudio</td>\n",
    "  </tr>\n",
    "  <tr>\n",
    "    <td>vscode</td>\n",
    "  </tr>\n",
    "  <tr>\n",
    "    <td>Julia</td>\n",
    "  </tr>\n",
    "</table>\n"
   ]
  },
  {
   "cell_type": "markdown",
   "id": "b6b08c34",
   "metadata": {},
   "source": [
    "<h3>Below are a few examples of evaluating arithmetic expressions in Python</h3>"
   ]
  },
  {
   "cell_type": "code",
   "execution_count": 1,
   "id": "5673b4b3",
   "metadata": {},
   "outputs": [
    {
     "data": {
      "text/plain": [
       "17"
      ]
     },
     "execution_count": 1,
     "metadata": {},
     "output_type": "execute_result"
    }
   ],
   "source": [
    "# This a simple arithmetic expression to mutiply then add integers\n",
    "(3*4)+5"
   ]
  },
  {
   "cell_type": "code",
   "execution_count": 2,
   "id": "1767ec88",
   "metadata": {},
   "outputs": [
    {
     "data": {
      "text/plain": [
       "3.3333333333333335"
      ]
     },
     "execution_count": 2,
     "metadata": {},
     "output_type": "execute_result"
    }
   ],
   "source": [
    "# This will convert 200 minutes to hours by diving by 60\n",
    "200/60"
   ]
  },
  {
   "cell_type": "markdown",
   "id": "2868bc50",
   "metadata": {},
   "source": [
    "<h2>Author</h2>\n",
    "Pravin Sridhar"
   ]
  },
  {
   "cell_type": "code",
   "execution_count": null,
   "id": "d695a57b",
   "metadata": {},
   "outputs": [],
   "source": []
  }
 ],
 "metadata": {
  "kernelspec": {
   "display_name": "Python 3 (ipykernel)",
   "language": "python",
   "name": "python3"
  },
  "language_info": {
   "codemirror_mode": {
    "name": "ipython",
    "version": 3
   },
   "file_extension": ".py",
   "mimetype": "text/x-python",
   "name": "python",
   "nbconvert_exporter": "python",
   "pygments_lexer": "ipython3",
   "version": "3.11.5"
  }
 },
 "nbformat": 4,
 "nbformat_minor": 5
}
